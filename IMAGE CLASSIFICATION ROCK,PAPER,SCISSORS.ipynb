{
  "nbformat": 4,
  "nbformat_minor": 0,
  "metadata": {
    "colab": {
      "name": "Klasifikasi Gambar.ipynb",
      "provenance": []
    },
    "kernelspec": {
      "name": "python3",
      "display_name": "Python 3"
    },
    "language_info": {
      "name": "python"
    }
  },
  "cells": [
    {
      "cell_type": "markdown",
      "source": [
        "BERLIANA ANDRA ARIANTI"
      ],
      "metadata": {
        "id": "U0wQ8p_OfiCf"
      }
    },
    {
      "cell_type": "markdown",
      "source": [
        "##Program Dicoding"
      ],
      "metadata": {
        "id": "mO3t48mXtx7n"
      }
    },
    {
      "cell_type": "code",
      "source": [
        "#library\n",
        "import tensorflow as tf\n",
        "from tensorflow.keras.optimizers import RMSprop\n",
        "from tensorflow.keras.preprocessing.image import ImageDataGenerator\n",
        "\n",
        "from sklearn.model_selection import train_test_split\n",
        "\n",
        "import os\n",
        "\n",
        "from google.colab import drive \n",
        "drive.mount('/content/drive')"
      ],
      "metadata": {
        "colab": {
          "base_uri": "https://localhost:8080/"
        },
        "id": "VaSz7Ty3t07-",
        "outputId": "8739641a-a240-4354-e5f9-93bab959d3d2"
      },
      "execution_count": 60,
      "outputs": [
        {
          "output_type": "stream",
          "name": "stdout",
          "text": [
            "Drive already mounted at /content/drive; to attempt to forcibly remount, call drive.mount(\"/content/drive\", force_remount=True).\n"
          ]
        }
      ]
    },
    {
      "cell_type": "code",
      "source": [
        "import zipfile\n",
        "from zipfile import ZipFile\n",
        "#Ekstrak data \n",
        "file = 'drive/MyDrive/rockpaperscissors.zip'\n",
        "zip = zipfile.ZipFile(file,'r')\n",
        "zip.extractall('/content')\n",
        "zip.close()"
      ],
      "metadata": {
        "id": "Nir8jGl2uujl"
      },
      "execution_count": 61,
      "outputs": []
    },
    {
      "cell_type": "code",
      "source": [
        "#Jumlah data\n",
        "data = os.path.join('/content/rockpaperscissors/rps-cv-images')\n",
        "rock = os.path.join('/content/rockpaperscissors/rock')\n",
        "paper = os.path.join('/content/rockpaperscissors/paper')\n",
        "scissors = os.path.join('/content/rockpaperscissors/scissors')\n",
        "\n",
        "print('all data value :', len(os.listdir(data)))\n",
        "print('rock value :', len(os.listdir(rock)))\n",
        "print('paper value :', len(os.listdir(paper)))\n",
        "print('scissors value :', len(os.listdir(scissors)))"
      ],
      "metadata": {
        "colab": {
          "base_uri": "https://localhost:8080/"
        },
        "id": "0uvLgd_s8RYF",
        "outputId": "a83ab33e-3d8f-4f28-b9e5-7ca564e2fd6f"
      },
      "execution_count": 62,
      "outputs": [
        {
          "output_type": "stream",
          "name": "stdout",
          "text": [
            "all data value : 4\n",
            "rock value : 726\n",
            "paper value : 712\n",
            "scissors value : 750\n"
          ]
        }
      ]
    },
    {
      "cell_type": "code",
      "source": [
        "#Cek File\n",
        "img_rock = os.listdir(rock)\n",
        "print(\"Rock Image :\", img_rock[:5])\n",
        "img_paper = os.listdir(paper)\n",
        "print(\"Paper Paper :\", img_paper[:5])\n",
        "img_scissors = os.listdir(scissors)\n",
        "print(\"Scissors Image :\", img_scissors[:5])"
      ],
      "metadata": {
        "colab": {
          "base_uri": "https://localhost:8080/"
        },
        "id": "Q2281eZd92HM",
        "outputId": "afcc19fc-e962-468e-bd09-325e4d7a5b57"
      },
      "execution_count": 63,
      "outputs": [
        {
          "output_type": "stream",
          "name": "stdout",
          "text": [
            "Rock Image : ['yC1FoVJ7cUxIEfBc.png', 'wZikdISRLJlJwp9q.png', '5uXiqEc4q2Vi0NCX.png', 'zM2n6u50gHzL1i6i.png', 'hMqKoUYAvB91YRuO.png']\n",
            "Paper Paper : ['C5LDaiOquQm9mDVH.png', 'SoqluLecSTBcuyoS.png', 'eiiwN1DsKoIheMgz.png', 'TstngIvuLJt0GIze.png', 'cMbbpVIgFU95R4tO.png']\n",
            "Scissors Image : ['inP9wrbC4x26yBW9.png', 'xgFgqnPJIU3u1ZqY.png', 'TJUiCdN9LUl2xPSE.png', 'sUi91SccB2jXsjyd.png', 'uQLROCDZVtwVCXfm.png']\n"
          ]
        }
      ]
    },
    {
      "cell_type": "code",
      "source": [
        "#Split Data\n",
        "train_r, val_r = train_test_split(os.listdir(rock), test_size=0.2)\n",
        "train_p, val_p = train_test_split(os.listdir(paper), test_size=0.2)\n",
        "train_s, val_s = train_test_split(os.listdir(scissors), test_size=0.2)\n",
        "train, val = train_test_split(os.listdir(data), test_size=0.2)"
      ],
      "metadata": {
        "id": "gtWr-hQW-k8Y"
      },
      "execution_count": 77,
      "outputs": []
    },
    {
      "cell_type": "code",
      "source": [
        "#Image data generator\n",
        "DATA = '/content/rockpaperscissors/rps-cv-images' #main folder\n",
        "\n",
        "train_imggen = ImageDataGenerator(\n",
        "      rescale = 1./225,\n",
        "      rotation_range = 40,\n",
        "      horizontal_flip = True,\n",
        "      shear_range = 0.2,\n",
        "      fill_mode = 'nearest',\n",
        "      validation_split = 0.2)\n",
        "test_imggen = ImageDataGenerator(\n",
        "      rescale = 1./225,\n",
        "      rotation_range = 20,\n",
        "      horizontal_flip = True,\n",
        "      shear_range = 0.2,\n",
        "      fill_mode = 'nearest')"
      ],
      "metadata": {
        "id": "C0BAs-Al_cA_"
      },
      "execution_count": 81,
      "outputs": []
    },
    {
      "cell_type": "code",
      "source": [
        "train_gen = train_imggen.flow_from_directory(\n",
        "    DATA,\n",
        "    target_size = (150,150),\n",
        "    batch_size = 32,\n",
        "    class_mode = 'categorical',\n",
        "    shuffle=True,\n",
        "    subset='training')\n",
        "\n",
        "val_gen = train_imggen.flow_from_directory(\n",
        "    DATA,\n",
        "    target_size = (150,150),\n",
        "    batch_size = 32,\n",
        "    class_mode = 'categorical',\n",
        "    shuffle=True,\n",
        "    subset='validation')"
      ],
      "metadata": {
        "colab": {
          "base_uri": "https://localhost:8080/"
        },
        "id": "wr-tkOkRA0Z-",
        "outputId": "66c4c926-0f9c-42d3-d679-09d35e45d66b"
      },
      "execution_count": 84,
      "outputs": [
        {
          "output_type": "stream",
          "name": "stdout",
          "text": [
            "Found 1751 images belonging to 3 classes.\n",
            "Found 437 images belonging to 3 classes.\n"
          ]
        }
      ]
    },
    {
      "cell_type": "code",
      "source": [
        "#CNN Model\n",
        "modelCNN = tf.keras.models.Sequential([\n",
        "            #Layer 1\n",
        "            tf.keras.layers.Conv2D(32, (3,3), activation = 'relu', input_shape= (150,150,3)),\n",
        "            tf.keras.layers.MaxPooling2D(2,2),\n",
        "            #Layer 2\n",
        "            tf.keras.layers.Conv2D(65, (3,3), activation = 'relu'),\n",
        "            tf.keras.layers.MaxPooling2D(2,2),\n",
        "            #Layer 3\n",
        "            tf.keras.layers.Conv2D(128, (3,3), activation = 'relu'),\n",
        "            tf.keras.layers.MaxPooling2D(2,2),\n",
        "            #Layer 4\n",
        "            tf.keras.layers.Conv2D(256, (3,3), activation = 'relu'),\n",
        "            tf.keras.layers.MaxPooling2D(2,2),\n",
        "            #Fully Connected\n",
        "            tf.keras.layers.Flatten(),\n",
        "            tf.keras.layers.Dense(512, activation = 'relu'),\n",
        "            tf.keras.layers.Dense(3, activation= 'softmax')\n",
        "])"
      ],
      "metadata": {
        "id": "w1LbkWgFL2gR"
      },
      "execution_count": 85,
      "outputs": []
    },
    {
      "cell_type": "code",
      "source": [
        "modelCNN.summary()"
      ],
      "metadata": {
        "colab": {
          "base_uri": "https://localhost:8080/"
        },
        "id": "oTHi3JNnRJps",
        "outputId": "74b17824-da73-4c8b-b190-c0f6f7a0c0a5"
      },
      "execution_count": 86,
      "outputs": [
        {
          "output_type": "stream",
          "name": "stdout",
          "text": [
            "Model: \"sequential_2\"\n",
            "_________________________________________________________________\n",
            " Layer (type)                Output Shape              Param #   \n",
            "=================================================================\n",
            " conv2d_16 (Conv2D)          (None, 148, 148, 32)      896       \n",
            "                                                                 \n",
            " max_pooling2d_16 (MaxPoolin  (None, 74, 74, 32)       0         \n",
            " g2D)                                                            \n",
            "                                                                 \n",
            " conv2d_17 (Conv2D)          (None, 72, 72, 65)        18785     \n",
            "                                                                 \n",
            " max_pooling2d_17 (MaxPoolin  (None, 36, 36, 65)       0         \n",
            " g2D)                                                            \n",
            "                                                                 \n",
            " conv2d_18 (Conv2D)          (None, 34, 34, 128)       75008     \n",
            "                                                                 \n",
            " max_pooling2d_18 (MaxPoolin  (None, 17, 17, 128)      0         \n",
            " g2D)                                                            \n",
            "                                                                 \n",
            " conv2d_19 (Conv2D)          (None, 15, 15, 256)       295168    \n",
            "                                                                 \n",
            " max_pooling2d_19 (MaxPoolin  (None, 7, 7, 256)        0         \n",
            " g2D)                                                            \n",
            "                                                                 \n",
            " flatten_2 (Flatten)         (None, 12544)             0         \n",
            "                                                                 \n",
            " dense_4 (Dense)             (None, 512)               6423040   \n",
            "                                                                 \n",
            " dense_5 (Dense)             (None, 3)                 1539      \n",
            "                                                                 \n",
            "=================================================================\n",
            "Total params: 6,814,436\n",
            "Trainable params: 6,814,436\n",
            "Non-trainable params: 0\n",
            "_________________________________________________________________\n"
          ]
        }
      ]
    },
    {
      "cell_type": "code",
      "source": [
        "modelCNN.compile(loss = 'categorical_crossentropy',\n",
        "                 optimizer = 'rmsprop',\n",
        "                 metrics = ['accuracy'])"
      ],
      "metadata": {
        "id": "TIyuZ0PsRPLR"
      },
      "execution_count": 87,
      "outputs": []
    },
    {
      "cell_type": "code",
      "source": [
        "#melatih model CNN\n",
        "latih = modelCNN.fit(\n",
        "    train_gen,\n",
        "    steps_per_epoch = 4,\n",
        "    epochs = 25,\n",
        "    validation_data = val_gen,\n",
        "    validation_steps = 4,\n",
        "    verbose = 2\n",
        ")"
      ],
      "metadata": {
        "colab": {
          "base_uri": "https://localhost:8080/"
        },
        "id": "79vnS2vFR2kK",
        "outputId": "fb8b209f-30f9-46b9-f2c9-af4564985c56"
      },
      "execution_count": 94,
      "outputs": [
        {
          "output_type": "stream",
          "name": "stdout",
          "text": [
            "Epoch 1/25\n",
            "4/4 - 11s - loss: 0.9093 - accuracy: 0.6797 - val_loss: 0.4687 - val_accuracy: 0.8750 - 11s/epoch - 3s/step\n",
            "Epoch 2/25\n",
            "4/4 - 10s - loss: 0.3186 - accuracy: 0.9297 - val_loss: 0.3790 - val_accuracy: 0.8438 - 10s/epoch - 3s/step\n",
            "Epoch 3/25\n",
            "4/4 - 11s - loss: 0.7218 - accuracy: 0.7578 - val_loss: 0.7067 - val_accuracy: 0.7031 - 11s/epoch - 3s/step\n",
            "Epoch 4/25\n",
            "4/4 - 11s - loss: 0.5374 - accuracy: 0.8203 - val_loss: 0.3312 - val_accuracy: 0.8984 - 11s/epoch - 3s/step\n",
            "Epoch 5/25\n",
            "4/4 - 11s - loss: 0.6720 - accuracy: 0.7578 - val_loss: 0.7131 - val_accuracy: 0.6172 - 11s/epoch - 3s/step\n",
            "Epoch 6/25\n",
            "4/4 - 11s - loss: 0.3946 - accuracy: 0.8359 - val_loss: 0.5966 - val_accuracy: 0.7109 - 11s/epoch - 3s/step\n",
            "Epoch 7/25\n",
            "4/4 - 11s - loss: 0.7400 - accuracy: 0.6953 - val_loss: 0.3835 - val_accuracy: 0.8750 - 11s/epoch - 3s/step\n",
            "Epoch 8/25\n",
            "4/4 - 11s - loss: 0.4955 - accuracy: 0.8047 - val_loss: 0.4017 - val_accuracy: 0.8359 - 11s/epoch - 3s/step\n",
            "Epoch 9/25\n",
            "4/4 - 11s - loss: 0.3074 - accuracy: 0.9141 - val_loss: 0.2715 - val_accuracy: 0.8984 - 11s/epoch - 3s/step\n",
            "Epoch 10/25\n",
            "4/4 - 10s - loss: 0.2085 - accuracy: 0.9297 - val_loss: 0.6609 - val_accuracy: 0.7656 - 10s/epoch - 3s/step\n",
            "Epoch 11/25\n",
            "4/4 - 11s - loss: 0.6717 - accuracy: 0.7578 - val_loss: 0.3965 - val_accuracy: 0.8750 - 11s/epoch - 3s/step\n",
            "Epoch 12/25\n",
            "4/4 - 13s - loss: 0.3203 - accuracy: 0.8828 - val_loss: 0.2533 - val_accuracy: 0.8828 - 13s/epoch - 3s/step\n",
            "Epoch 13/25\n",
            "4/4 - 11s - loss: 0.2558 - accuracy: 0.8906 - val_loss: 0.2699 - val_accuracy: 0.9141 - 11s/epoch - 3s/step\n",
            "Epoch 14/25\n",
            "4/4 - 11s - loss: 0.2557 - accuracy: 0.9219 - val_loss: 0.2842 - val_accuracy: 0.8984 - 11s/epoch - 3s/step\n",
            "Epoch 15/25\n",
            "4/4 - 11s - loss: 0.3180 - accuracy: 0.9141 - val_loss: 0.8633 - val_accuracy: 0.6719 - 11s/epoch - 3s/step\n",
            "Epoch 16/25\n",
            "4/4 - 11s - loss: 0.2838 - accuracy: 0.8984 - val_loss: 0.2455 - val_accuracy: 0.8750 - 11s/epoch - 3s/step\n",
            "Epoch 17/25\n",
            "4/4 - 11s - loss: 0.2674 - accuracy: 0.9141 - val_loss: 0.4623 - val_accuracy: 0.8203 - 11s/epoch - 3s/step\n",
            "Epoch 18/25\n",
            "4/4 - 11s - loss: 0.3753 - accuracy: 0.8906 - val_loss: 0.2149 - val_accuracy: 0.9453 - 11s/epoch - 3s/step\n",
            "Epoch 19/25\n",
            "4/4 - 11s - loss: 0.1805 - accuracy: 0.9453 - val_loss: 0.3639 - val_accuracy: 0.8906 - 11s/epoch - 3s/step\n",
            "Epoch 20/25\n",
            "4/4 - 11s - loss: 0.2595 - accuracy: 0.9062 - val_loss: 0.1473 - val_accuracy: 0.9766 - 11s/epoch - 3s/step\n",
            "Epoch 21/25\n",
            "4/4 - 11s - loss: 0.2253 - accuracy: 0.9297 - val_loss: 0.2410 - val_accuracy: 0.9453 - 11s/epoch - 3s/step\n",
            "Epoch 22/25\n",
            "4/4 - 11s - loss: 0.5079 - accuracy: 0.7891 - val_loss: 0.2414 - val_accuracy: 0.9219 - 11s/epoch - 3s/step\n",
            "Epoch 23/25\n",
            "4/4 - 11s - loss: 0.2569 - accuracy: 0.9062 - val_loss: 0.4403 - val_accuracy: 0.8125 - 11s/epoch - 3s/step\n",
            "Epoch 24/25\n",
            "4/4 - 11s - loss: 0.2918 - accuracy: 0.8828 - val_loss: 0.2038 - val_accuracy: 0.9219 - 11s/epoch - 3s/step\n",
            "Epoch 25/25\n",
            "4/4 - 11s - loss: 0.1327 - accuracy: 0.9531 - val_loss: 0.3257 - val_accuracy: 0.9297 - 11s/epoch - 3s/step\n"
          ]
        }
      ]
    },
    {
      "cell_type": "code",
      "source": [
        "#Uji Coba Tebak Gambar\n",
        "import numpy as np\n",
        "from google.colab import files\n",
        "from keras.preprocessing import image\n",
        "import matplotlib.pyplot as plt  \n",
        "\n",
        "uploaded = files.upload()\n",
        "\n",
        "#Upload gambar\n",
        "for fn in uploaded.keys():\n",
        "\n",
        "  path = fn\n",
        "  img = image.load_img(path, target_size=(150, 150))                              \n",
        "  imgplot = plt.imshow(img)                                                     \n",
        "  x = image.img_to_array(img)\n",
        "  x = np.expand_dims(x, axis=0)\n",
        "\n",
        "  images = np.vstack([x])\n",
        "  classes = modelCNN.predict(images, batch_size=10)\n",
        "  print(fn)\n",
        "  if classes[0][0]==1:\n",
        "    print('PAPER')                                \n",
        "  elif classes[0][1]==1:\n",
        "    print('ROCK')                                   \n",
        "  elif classes[0][2]==1:\n",
        "    print('SCISSORS') \n",
        "  else :                               \n",
        "    print('Tidak Diketahui')    "
      ],
      "metadata": {
        "colab": {
          "resources": {
            "http://localhost:8080/nbextensions/google.colab/files.js": {
              "data": "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",
              "ok": true,
              "headers": [
                [
                  "content-type",
                  "application/javascript"
                ]
              ],
              "status": 200,
              "status_text": ""
            }
          },
          "base_uri": "https://localhost:8080/",
          "height": 360
        },
        "id": "J1nWibNLVS_P",
        "outputId": "e2ed250e-db41-4bb6-a484-997563bf5062"
      },
      "execution_count": 100,
      "outputs": [
        {
          "output_type": "display_data",
          "data": {
            "text/plain": [
              "<IPython.core.display.HTML object>"
            ],
            "text/html": [
              "\n",
              "     <input type=\"file\" id=\"files-fc54044a-4439-4fc6-920f-6446fb0d3cfb\" name=\"files[]\" multiple disabled\n",
              "        style=\"border:none\" />\n",
              "     <output id=\"result-fc54044a-4439-4fc6-920f-6446fb0d3cfb\">\n",
              "      Upload widget is only available when the cell has been executed in the\n",
              "      current browser session. Please rerun this cell to enable.\n",
              "      </output>\n",
              "      <script src=\"/nbextensions/google.colab/files.js\"></script> "
            ]
          },
          "metadata": {}
        },
        {
          "output_type": "stream",
          "name": "stdout",
          "text": [
            "Saving 25498.jpg to 25498.jpg\n",
            "25498.jpg\n",
            "PAPER\n"
          ]
        },
        {
          "output_type": "display_data",
          "data": {
            "text/plain": [
              "<Figure size 432x288 with 1 Axes>"
            ],
            "image/png": "[encoded data removed]"
          },
          "metadata": {
            "needs_background": "light"
          }
        }
      ]
    }
  ]
}